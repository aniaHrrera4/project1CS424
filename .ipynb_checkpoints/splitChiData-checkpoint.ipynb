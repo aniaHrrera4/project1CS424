{
 "cells": [
  {
   "cell_type": "code",
   "execution_count": 30,
   "id": "ba972881",
   "metadata": {},
   "outputs": [],
   "source": [
    "import pandas as pd\n",
    "import os\n",
    "\n",
    "path = os.getcwd()"
   ]
  },
  {
   "cell_type": "code",
   "execution_count": 31,
   "id": "85be8ec3",
   "metadata": {},
   "outputs": [],
   "source": [
    "ctaData = \"/Users/andreaherrera/Downloads/project1/ctaData/CTA_-_Ridership_-__L__Station_Entries_-_Daily_Totals.csv\""
   ]
  },
  {
   "cell_type": "code",
   "execution_count": 32,
   "id": "a28d81f0",
   "metadata": {},
   "outputs": [],
   "source": [
    "df = pd.read_csv(ctaData, header=0, delimiter=\",\")\n"
   ]
  },
  {
   "cell_type": "code",
   "execution_count": 33,
   "id": "2c0addeb",
   "metadata": {},
   "outputs": [
    {
     "name": "stdout",
     "output_type": "stream",
     "text": [
      "['station_id', 'stationname', 'date', 'daytype', 'rides']\n"
     ]
    }
   ],
   "source": [
    "columns = df.columns.values.tolist()\n",
    "print(columns)"
   ]
  },
  {
   "cell_type": "code",
   "execution_count": 34,
   "id": "f7ea317f",
   "metadata": {},
   "outputs": [
    {
     "data": {
      "text/plain": [
       "1"
      ]
     },
     "execution_count": 34,
     "metadata": {},
     "output_type": "execute_result"
    }
   ],
   "source": [
    "indx_val = columns.index('stationname')\n",
    "indx_val"
   ]
  },
  {
   "cell_type": "code",
   "execution_count": 35,
   "id": "b4177acc",
   "metadata": {},
   "outputs": [],
   "source": [
    "column_to_split = columns[indx_val]"
   ]
  },
  {
   "cell_type": "code",
   "execution_count": 36,
   "id": "6eb3c241",
   "metadata": {},
   "outputs": [
    {
     "name": "stdout",
     "output_type": "stream",
     "text": [
      "['Jefferson Park' 'Cermak-Chinatown' 'Central-Lake' 'Dempster-Skokie'\n",
      " 'Dempster' 'Lake/State' 'Oak Park-Forest Park' 'Kedzie-Homan-Forest Park'\n",
      " '35th/Archer' 'Addison-North Main' 'Main' 'Chicago/State' 'Wellington'\n",
      " 'Austin-Forest Park' 'Clinton-Lake' 'East 63rd-Cottage Grove'\n",
      " 'Grand/State' 'Wilson' 'Cicero-Cermak' 'State/Lake' '51st'\n",
      " '95th/Dan Ryan' 'Jackson/State' 'Randolph/Wabash' 'Logan Square' 'Morse'\n",
      " 'Grand/Milwaukee' '69th' 'Paulina' 'Damen-Brown' 'Washington/Dearborn'\n",
      " 'Kimball' 'Clark/Lake' 'Lawrence' 'Polk' '47th-Dan Ryan' 'Sedgwick'\n",
      " '54th/Cermak' 'Ashland/63rd' 'Morgan-Lake' 'Harrison' 'Sheridan' 'Racine'\n",
      " 'Washington/Wells' 'Quincy/Wells' 'Foster' 'California/Milwaukee'\n",
      " 'Cermak-McCormick Place' 'Sox-35th-Dan Ryan' 'Chicago/Milwaukee'\n",
      " \"O'Hare Airport\" 'Kedzie-Lake' 'Fullerton' 'Irving Park-Brown'\n",
      " 'LaSalle/Van Buren' 'Belmont-North Main' '79th' 'Adams/Wabash'\n",
      " 'Western-Orange' 'Clinton-Forest Park' 'UIC-Halsted' '35-Bronzeville-IIT'\n",
      " '87th' '18th' 'Indiana' 'Monroe/State' \"Irving Park-O'Hare\" 'Cumberland'\n",
      " 'Roosevelt' 'Damen/Milwaukee' 'Kedzie-Midway' '63rd-Dan Ryan'\n",
      " 'Kedzie-Cermak' 'Addison-Brown' 'Division/Milwaukee' 'Damen-Cermak'\n",
      " 'Cicero-Lake' 'Madison/Wabash' 'Harlem-Lake' 'Pulaski-Cermak'\n",
      " 'Kedzie-Brown' 'Central Park' \"Harlem-O'Hare\" 'Chicago/Franklin'\n",
      " 'North/Clybourn' 'Berwyn' 'Laramie' 'Howard' 'Granville'\n",
      " 'Western-Forest Park' 'California-Cermak' 'Ridgeland' 'Western-Cermak'\n",
      " 'Halsted/63rd' 'Pulaski-Forest Park' 'Montrose-Brown' 'Linden'\n",
      " 'Pulaski-Lake' 'Harlem-Forest Park' 'Ashland-Orange' 'Garfield-Dan Ryan'\n",
      " 'Halsted-Orange' \"Addison-O'Hare\" 'Pulaski-Orange' 'Noyes'\n",
      " '47th-South Elevated' 'Merchandise Mart' 'Midway Airport' '43rd'\n",
      " 'Western/Milwaukee' 'Ashland-Lake' \"Belmont-O'Hare\" 'Oak Park-Lake'\n",
      " 'Conservatory' 'Library' 'Loyola' 'Southport' \"Montrose-O'Hare\" 'Jarvis'\n",
      " 'South Boulevard' 'Cicero-Forest Park' 'Medical Center' 'Davis'\n",
      " 'Clark/Division' 'Jackson/Dearborn' 'Washington/Wabash' 'Francisco'\n",
      " 'Central-Evanston' 'Oakton-Skokie' 'Austin-Lake' 'Bryn Mawr' 'Kostner'\n",
      " 'Forest Park' 'California-Lake' 'Garfield-South Elevated' 'Rockwell'\n",
      " 'Diversey' 'Argyle' 'LaSalle' 'Monroe/Dearborn' 'Rosemont' 'King Drive'\n",
      " 'Armitage' 'Thorndale' 'Western-Brown' 'Skokie' 'Washington/State'\n",
      " 'Homan']\n"
     ]
    }
   ],
   "source": [
    "unique_values = df[column_to_split].unique()\n",
    "print(unique_values)"
   ]
  },
  {
   "cell_type": "code",
   "execution_count": 38,
   "id": "b7b73135",
   "metadata": {},
   "outputs": [],
   "source": [
    "os.chdir('/Users/andreaherrera/Downloads/project1/ctaData')\n",
    "#change the directory"
   ]
  },
  {
   "cell_type": "code",
   "execution_count": 39,
   "id": "4a094e1d",
   "metadata": {},
   "outputs": [],
   "source": [
    "uic = \"UIC-Halsted\"\n",
    "if uic in unique_values:\n",
    "    df_label = df[df[column_to_split] == uic]\n",
    "    split_target_file = f\"{ctaData.replace('.csv', '')}_{uic}.csv\"\n",
    "    df_label.to_csv(split_target_file, index=False, header=True, mode='a')"
   ]
  },
  {
   "cell_type": "code",
   "execution_count": 40,
   "id": "6d6af52c",
   "metadata": {},
   "outputs": [],
   "source": [
    "ohare = \"O'Hare Airport\"\n",
    "if uic in unique_values:\n",
    "    df_label = df[df[column_to_split] == ohare]\n",
    "    split_target_file = f\"{ctaData.replace('.csv', '')}_{ohare}.csv\"\n",
    "    df_label.to_csv(split_target_file, index=False, header=True, mode='a')"
   ]
  },
  {
   "cell_type": "code",
   "execution_count": 41,
   "id": "140435bf",
   "metadata": {},
   "outputs": [],
   "source": [
    "chinatown = \"Cermak-Chinatown\"\n",
    "if chinatown in unique_values:\n",
    "    df_label = df[df[column_to_split] == chinatown]\n",
    "    split_target_file = f\"{ctaData.replace('.csv', '')}_{chinatown}.csv\"\n",
    "    df_label.to_csv(split_target_file, index=False, header=True, mode='a')"
   ]
  },
  {
   "cell_type": "code",
   "execution_count": null,
   "id": "507f1f84",
   "metadata": {},
   "outputs": [],
   "source": []
  }
 ],
 "metadata": {
  "kernelspec": {
   "display_name": "Python 3 (ipykernel)",
   "language": "python",
   "name": "python3"
  },
  "language_info": {
   "codemirror_mode": {
    "name": "ipython",
    "version": 3
   },
   "file_extension": ".py",
   "mimetype": "text/x-python",
   "name": "python",
   "nbconvert_exporter": "python",
   "pygments_lexer": "ipython3",
   "version": "3.9.7"
  }
 },
 "nbformat": 4,
 "nbformat_minor": 5
}
